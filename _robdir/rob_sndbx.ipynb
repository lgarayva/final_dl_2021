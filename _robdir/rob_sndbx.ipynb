{
 "cells": [
  {
   "cell_type": "markdown",
   "id": "751f1688-e2da-4e8c-912b-51bb1eeb18a0",
   "metadata": {},
   "source": [
    "# Rob Sandbox"
   ]
  },
  {
   "cell_type": "markdown",
   "id": "571e33ae-1e34-4eed-9484-018d21a9ba4c",
   "metadata": {},
   "source": [
    "## Imports"
   ]
  },
  {
   "cell_type": "markdown",
   "id": "5733eac8-a3f3-47b6-b5a1-a626c509aa44",
   "metadata": {},
   "source": [
    "#### Standard library imports"
   ]
  },
  {
   "cell_type": "code",
   "execution_count": 2,
   "id": "d83af7a4-6e95-45f1-bf01-f2892930ec4c",
   "metadata": {},
   "outputs": [],
   "source": [
    "import os"
   ]
  },
  {
   "cell_type": "markdown",
   "id": "b5822aa3-479c-444d-be58-d8551406d1b7",
   "metadata": {},
   "source": [
    "## Data Wrangling"
   ]
  },
  {
   "cell_type": "code",
   "execution_count": 3,
   "id": "b6124b56-57cb-42ea-a719-da5d7517fb14",
   "metadata": {},
   "outputs": [],
   "source": [
    "imgs = list(sorted(os.listdir(\"archive/images\")))"
   ]
  },
  {
   "cell_type": "code",
   "execution_count": 5,
   "id": "95f117a3-5088-47af-86d6-712e79f2ec2a",
   "metadata": {},
   "outputs": [],
   "source": [
    "labels = list(sorted(os.listdir(\"archive/annotations/\")))"
   ]
  },
  {
   "cell_type": "code",
   "execution_count": null,
   "id": "46ea1b43-678d-475a-9c74-147f543ee814",
   "metadata": {},
   "outputs": [],
   "source": []
  }
 ],
 "metadata": {
  "kernelspec": {
   "display_name": "Python 3",
   "language": "python",
   "name": "python3"
  },
  "language_info": {
   "codemirror_mode": {
    "name": "ipython",
    "version": 3
   },
   "file_extension": ".py",
   "mimetype": "text/x-python",
   "name": "python",
   "nbconvert_exporter": "python",
   "pygments_lexer": "ipython3",
   "version": "3.8.6"
  }
 },
 "nbformat": 4,
 "nbformat_minor": 5
}
